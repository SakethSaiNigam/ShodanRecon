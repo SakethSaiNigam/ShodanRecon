{
 "cells": [
  {
   "cell_type": "code",
   "execution_count": 1,
   "id": "4d3a45bd",
   "metadata": {},
   "outputs": [
    {
     "name": "stdout",
     "output_type": "stream",
     "text": [
      "Scanning 8.8.8.8...\n",
      "Scanning 1.1.1.1...\n",
      "Scanning 208.67.222.222...\n",
      "Scan complete. Results saved to shodan_report.csv\n"
     ]
    }
   ],
   "source": [
    "import requests\n",
    "import csv\n",
    "\n",
    "SHODAN_API_KEY = 'P2gkcbLYgUQrP4FBJ2gN9umbPHpqDgrt'\n",
    "\n",
    "def scan_ip(ip):\n",
    "    url = f\"https://api.shodan.io/shodan/host/{ip}?key={SHODAN_API_KEY}\"\n",
    "    try:\n",
    "        response = requests.get(url, timeout=10)\n",
    "        if response.status_code == 200:\n",
    "            data = response.json()\n",
    "            ports = data.get('ports', [])\n",
    "            org = data.get('org', 'N/A')\n",
    "            city = data.get('city', 'N/A')\n",
    "            country = data.get('country_name', 'N/A')\n",
    "            return {\n",
    "                'ip': ip,\n",
    "                'ports': ports,\n",
    "                'org': org,\n",
    "                'city': city,\n",
    "                'country': country\n",
    "            }\n",
    "        else:\n",
    "            return {'ip': ip, 'error': response.json().get(\"error\", \"Unknown error\")}\n",
    "    except Exception as e:\n",
    "        return {'ip': ip, 'error': str(e)}\n",
    "\n",
    "def main():\n",
    "    ip_list = [\n",
    "        '8.8.8.8',\n",
    "        '1.1.1.1',\n",
    "        '208.67.222.222'  # You can add more\n",
    "    ]\n",
    "\n",
    "    results = []\n",
    "\n",
    "    for ip in ip_list:\n",
    "        print(f\"Scanning {ip}...\")\n",
    "        result = scan_ip(ip)\n",
    "        results.append(result)\n",
    "\n",
    "    # Export to CSV\n",
    "    with open('shodan_report.csv', 'w', newline='') as csvfile:\n",
    "        fieldnames = ['ip', 'ports', 'org', 'city', 'country', 'error']\n",
    "        writer = csv.DictWriter(csvfile, fieldnames=fieldnames)\n",
    "        writer.writeheader()\n",
    "        for res in results:\n",
    "            writer.writerow({\n",
    "                'ip': res.get('ip'),\n",
    "                'ports': res.get('ports', []),\n",
    "                'org': res.get('org', ''),\n",
    "                'city': res.get('city', ''),\n",
    "                'country': res.get('country', ''),\n",
    "                'error': res.get('error', '')\n",
    "            })\n",
    "\n",
    "    print(\"Scan complete. Results saved to shodan_report.csv\")\n",
    "\n",
    "if __name__ == \"__main__\":\n",
    "    main()\n"
   ]
  }
 ],
 "metadata": {
  "kernelspec": {
   "display_name": "Python 3 (ipykernel)",
   "language": "python",
   "name": "python3"
  },
  "language_info": {
   "codemirror_mode": {
    "name": "ipython",
    "version": 3
   },
   "file_extension": ".py",
   "mimetype": "text/x-python",
   "name": "python",
   "nbconvert_exporter": "python",
   "pygments_lexer": "ipython3",
   "version": "3.9.13"
  }
 },
 "nbformat": 4,
 "nbformat_minor": 5
}
